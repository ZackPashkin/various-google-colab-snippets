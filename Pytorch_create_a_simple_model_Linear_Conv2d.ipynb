{
  "nbformat": 4,
  "nbformat_minor": 0,
  "metadata": {
    "colab": {
      "name": "Pytorch: create a simple model Linear Conv2d.ipynb",
      "provenance": [],
      "authorship_tag": "ABX9TyMGHlBOHSe7ga3ACdJeb2DN",
      "include_colab_link": true
    },
    "kernelspec": {
      "name": "python3",
      "display_name": "Python 3"
    },
    "language_info": {
      "name": "python"
    }
  },
  "cells": [
    {
      "cell_type": "markdown",
      "metadata": {
        "id": "view-in-github",
        "colab_type": "text"
      },
      "source": [
        "<a href=\"https://colab.research.google.com/github/ZackPashkin/various-google-colab-snippets/blob/main/Pytorch_create_a_simple_model_Linear_Conv2d.ipynb\" target=\"_parent\"><img src=\"https://colab.research.google.com/assets/colab-badge.svg\" alt=\"Open In Colab\"/></a>"
      ]
    },
    {
      "cell_type": "markdown",
      "metadata": {
        "id": "emM_dHxdn6EC"
      },
      "source": [
        "#Pytorch: create a model Linear Conv2d"
      ]
    },
    {
      "cell_type": "code",
      "metadata": {
        "id": "SirKNMyLnqWq"
      },
      "source": [
        "import torch \n",
        "import torch.nn as nn"
      ],
      "execution_count": 1,
      "outputs": []
    },
    {
      "cell_type": "code",
      "metadata": {
        "id": "KfSOGvihn_8O"
      },
      "source": [
        "# create model\n",
        "class Model(nn.Module):\n",
        "  def __init__(self):\n",
        "    super().__init__()\n",
        "    self.layer1 = nn.Conv2d(3,6, kernel_size=4)\n",
        "    self.layer2 = nn.Conv2d(6,12, kernel_size=4)\n",
        "    self.layer3 = nn.Linear(12*58*58,2) # check the shape below passing x.shape after x = self.layer2(x)\n",
        "\n",
        "  def forward(self, input_data):\n",
        "    x = self.layer1(input_data)\n",
        "    # check tensor output shape\n",
        "    # print(x.shape)\n",
        "    x = self.layer2(x)\n",
        "    print(x.shape)\n",
        "    # have to reshape before passing to Linear layer\n",
        "    # -1 is batch\n",
        "    x = x.view(-1,12*58*58)\n",
        "    x = self.layer3(x)\n",
        "    return x"
      ],
      "execution_count": 56,
      "outputs": []
    },
    {
      "cell_type": "code",
      "metadata": {
        "colab": {
          "base_uri": "https://localhost:8080/"
        },
        "id": "POrgog4xrKUi",
        "outputId": "0c21fb2b-75ef-4f08-d373-30451d3af6a3"
      },
      "source": [
        "# init model\n",
        "model = Model()\n",
        "model"
      ],
      "execution_count": 57,
      "outputs": [
        {
          "output_type": "execute_result",
          "data": {
            "text/plain": [
              "Model(\n",
              "  (layer1): Conv2d(3, 6, kernel_size=(4, 4), stride=(1, 1))\n",
              "  (layer2): Conv2d(6, 12, kernel_size=(4, 4), stride=(1, 1))\n",
              "  (layer3): Linear(in_features=40368, out_features=2, bias=True)\n",
              ")"
            ]
          },
          "metadata": {
            "tags": []
          },
          "execution_count": 57
        }
      ]
    },
    {
      "cell_type": "code",
      "metadata": {
        "id": "KKf_vcQErTCF"
      },
      "source": [
        "# create some random data\n",
        "input_data = torch.rand((4,3,64,64))"
      ],
      "execution_count": 58,
      "outputs": []
    },
    {
      "cell_type": "code",
      "metadata": {
        "colab": {
          "base_uri": "https://localhost:8080/"
        },
        "id": "9ZRl4fYMro93",
        "outputId": "60450997-f7d0-45ef-b174-596e8d0b07f9"
      },
      "source": [
        "# forward pass\n",
        "model(input_data)"
      ],
      "execution_count": 59,
      "outputs": [
        {
          "output_type": "stream",
          "text": [
            "torch.Size([4, 12, 58, 58])\n"
          ],
          "name": "stdout"
        },
        {
          "output_type": "execute_result",
          "data": {
            "text/plain": [
              "tensor([[ 0.0937,  0.0186],\n",
              "        [-0.0012, -0.0474],\n",
              "        [ 0.0778,  0.0312],\n",
              "        [ 0.0344,  0.0618]], grad_fn=<AddmmBackward>)"
            ]
          },
          "metadata": {
            "tags": []
          },
          "execution_count": 59
        }
      ]
    }
  ]
}