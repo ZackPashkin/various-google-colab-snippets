{
  "nbformat": 4,
  "nbformat_minor": 0,
  "metadata": {
    "colab": {
      "name": "Pytorch: create a simple model with activation function and pooling.ipynb",
      "provenance": [],
      "authorship_tag": "ABX9TyOyTEUqn9f6PYArScxWmKMO",
      "include_colab_link": true
    },
    "kernelspec": {
      "name": "python3",
      "display_name": "Python 3"
    },
    "language_info": {
      "name": "python"
    }
  },
  "cells": [
    {
      "cell_type": "markdown",
      "metadata": {
        "id": "view-in-github",
        "colab_type": "text"
      },
      "source": [
        "<a href=\"https://colab.research.google.com/github/ZackPashkin/various-google-colab-snippets/blob/main/Pytorch_create_a_simple_model_with_activation_function_and_pooling.ipynb\" target=\"_parent\"><img src=\"https://colab.research.google.com/assets/colab-badge.svg\" alt=\"Open In Colab\"/></a>"
      ]
    },
    {
      "cell_type": "markdown",
      "metadata": {
        "id": "emM_dHxdn6EC"
      },
      "source": [
        "#Pytorch: create a simple model with activation function and pooling"
      ]
    },
    {
      "cell_type": "code",
      "metadata": {
        "id": "SirKNMyLnqWq"
      },
      "source": [
        "import torch \n",
        "import torch.nn as nn\n",
        "import torch.nn.functional as F"
      ],
      "execution_count": 2,
      "outputs": []
    },
    {
      "cell_type": "code",
      "metadata": {
        "id": "KfSOGvihn_8O"
      },
      "source": [
        "# create model\n",
        "class Model(nn.Module):\n",
        "  def __init__(self):\n",
        "    super().__init__()\n",
        "    self.conv1 = nn.Conv2d(3,6, kernel_size=4)\n",
        "    self.pool1 = nn.MaxPool2d(2,2)\n",
        "    self.conv2 = nn.Conv2d(6,12, kernel_size=4)\n",
        "    self.pool2 = nn.MaxPool2d(2,2)\n",
        "    self.fc1 = nn.Linear(12*13*13,2) # check the shape below passing x.shape after x = self.conv2(x)\n",
        "\n",
        "  def forward(self, input_data):\n",
        "    x = self.conv1(input_data)\n",
        "    # apply relu\n",
        "    x = F.relu(x)\n",
        "    # apply pooling\n",
        "    x = self.pool1(x)\n",
        "    # check tensor output shape\n",
        "    # print(x.shape)\n",
        "    x = self.conv2(x)\n",
        "    # apply relu\n",
        "    x = F.relu(x)\n",
        "    # apply pooling\n",
        "    x = self.pool2(x)\n",
        "    print(x.shape)\n",
        "    # have to reshape before passing to Linear layer\n",
        "    # -1 is batch\n",
        "    x = x.view(-1,12*13*13)\n",
        "    x = self.fc1(x)\n",
        "    return x"
      ],
      "execution_count": 17,
      "outputs": []
    },
    {
      "cell_type": "code",
      "metadata": {
        "colab": {
          "base_uri": "https://localhost:8080/"
        },
        "id": "POrgog4xrKUi",
        "outputId": "68984943-7ed8-4b15-eed9-0a6ad3844d50"
      },
      "source": [
        "# init model\n",
        "model = Model()\n",
        "model"
      ],
      "execution_count": 18,
      "outputs": [
        {
          "output_type": "execute_result",
          "data": {
            "text/plain": [
              "Model(\n",
              "  (conv1): Conv2d(3, 6, kernel_size=(4, 4), stride=(1, 1))\n",
              "  (pool1): MaxPool2d(kernel_size=2, stride=2, padding=0, dilation=1, ceil_mode=False)\n",
              "  (conv2): Conv2d(6, 12, kernel_size=(4, 4), stride=(1, 1))\n",
              "  (pool2): MaxPool2d(kernel_size=2, stride=2, padding=0, dilation=1, ceil_mode=False)\n",
              "  (fc1): Linear(in_features=2028, out_features=2, bias=True)\n",
              ")"
            ]
          },
          "metadata": {
            "tags": []
          },
          "execution_count": 18
        }
      ]
    },
    {
      "cell_type": "code",
      "metadata": {
        "id": "KKf_vcQErTCF"
      },
      "source": [
        "# create some random data\n",
        "input_data = torch.rand((4,3,64,64))"
      ],
      "execution_count": 19,
      "outputs": []
    },
    {
      "cell_type": "code",
      "metadata": {
        "colab": {
          "base_uri": "https://localhost:8080/"
        },
        "id": "9ZRl4fYMro93",
        "outputId": "3dd56eba-12c5-4cf5-dd98-f829e1b6a459"
      },
      "source": [
        "# forward pass\n",
        "model(input_data)"
      ],
      "execution_count": 20,
      "outputs": [
        {
          "output_type": "stream",
          "text": [
            "torch.Size([4, 12, 13, 13])\n"
          ],
          "name": "stdout"
        },
        {
          "output_type": "execute_result",
          "data": {
            "text/plain": [
              "tensor([[0.0907, 0.1077],\n",
              "        [0.0915, 0.1041],\n",
              "        [0.0465, 0.0999],\n",
              "        [0.1056, 0.1054]], grad_fn=<AddmmBackward>)"
            ]
          },
          "metadata": {
            "tags": []
          },
          "execution_count": 20
        }
      ]
    }
  ]
}