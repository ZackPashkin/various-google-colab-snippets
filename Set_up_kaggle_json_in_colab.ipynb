{
  "nbformat": 4,
  "nbformat_minor": 0,
  "metadata": {
    "colab": {
      "name": "Set up kaggle json in colab.ipynb",
      "provenance": [],
      "authorship_tag": "ABX9TyP4GlDcugHQNVKHpWzleWlQ",
      "include_colab_link": true
    },
    "kernelspec": {
      "name": "python3",
      "display_name": "Python 3"
    },
    "language_info": {
      "name": "python"
    }
  },
  "cells": [
    {
      "cell_type": "markdown",
      "metadata": {
        "id": "view-in-github",
        "colab_type": "text"
      },
      "source": [
        "<a href=\"https://colab.research.google.com/github/ZackPashkin/various-google-colab-snippets/blob/main/Set_up_kaggle_json_in_colab.ipynb\" target=\"_parent\"><img src=\"https://colab.research.google.com/assets/colab-badge.svg\" alt=\"Open In Colab\"/></a>"
      ]
    },
    {
      "cell_type": "markdown",
      "metadata": {
        "id": "urIR3bkZ1jG2"
      },
      "source": [
        "# Set up kaggle json in colab"
      ]
    },
    {
      "cell_type": "code",
      "metadata": {
        "id": "7khBX1OS1abt"
      },
      "source": [
        "# set up kaggle json in colab\n",
        "# make sure you downloaded kaggle.json locally from kaggle profile\n",
        "\n",
        "! pip install -q kaggle\n",
        "\n",
        "import os\n",
        "from google.colab import files\n",
        "\n",
        "if not os.path.exists(\"/root/.kaggle/kaggle.json\"):\n",
        "  files.upload()\n",
        "  ! mkdir -p ~/.kaggle\n",
        "  ! mv kaggle.json ~/.kaggle/ \n",
        "  ! chmod 600 ~/.kaggle/kaggle.json"
      ],
      "execution_count": null,
      "outputs": []
    },
    {
      "cell_type": "code",
      "metadata": {
        "id": "9V99Dyju1r7E"
      },
      "source": [
        "# example downloading dataset\n",
        "!kaggle datasets download -d paramaggarwal/fashion-product-images-dataset\n",
        "!unzip -qq /content/fashion-product-images-dataset.zip -d ./"
      ],
      "execution_count": null,
      "outputs": []
    }
  ]
}