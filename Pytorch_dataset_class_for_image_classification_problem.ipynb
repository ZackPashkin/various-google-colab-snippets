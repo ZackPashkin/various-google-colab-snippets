{
  "nbformat": 4,
  "nbformat_minor": 0,
  "metadata": {
    "colab": {
      "name": "Pytorch: dataset class for image classification problem.ipynb",
      "provenance": [],
      "collapsed_sections": [],
      "authorship_tag": "ABX9TyPqeOGmdUZKg/XolUkpn3Vi",
      "include_colab_link": true
    },
    "kernelspec": {
      "name": "python3",
      "display_name": "Python 3"
    },
    "language_info": {
      "name": "python"
    },
    "accelerator": "GPU"
  },
  "cells": [
    {
      "cell_type": "markdown",
      "metadata": {
        "id": "view-in-github",
        "colab_type": "text"
      },
      "source": [
        "<a href=\"https://colab.research.google.com/github/ZackPashkin/various-google-colab-snippets/blob/main/Pytorch_dataset_class_for_image_classification_problem.ipynb\" target=\"_parent\"><img src=\"https://colab.research.google.com/assets/colab-badge.svg\" alt=\"Open In Colab\"/></a>"
      ]
    },
    {
      "cell_type": "markdown",
      "metadata": {
        "id": "WaW3ZAQ6PabC"
      },
      "source": [
        "# Pytorch: dataset class for image classification problem"
      ]
    },
    {
      "cell_type": "code",
      "metadata": {
        "id": "FTZOznTJOH7t"
      },
      "source": [
        "import torch \n",
        "import cv2\n",
        "import numpy as np"
      ],
      "execution_count": 10,
      "outputs": []
    },
    {
      "cell_type": "code",
      "metadata": {
        "id": "yZAM7bWkOjGE"
      },
      "source": [
        "class Dataset:\n",
        "  def __init__(self, imgs_paths, labels, augmentations=None):\n",
        "    self.imgs_paths = imgs_paths\n",
        "    self.labels = labels\n",
        "    self.augmentations = augmentations\n",
        "  \n",
        "  def __len__(self):\n",
        "    return len(imgs_paths)\n",
        "\n",
        "  def __getitem__(self, idx):\n",
        "    self.label = labels[idx]\n",
        "    image = cv2.imread(self.imgs_paths[idx])\n",
        "    image = cv2.cvtColor(image, cv2.COLOR_BGR2RGB)\n",
        "    if self.augmentations is not None:\n",
        "      augmented_image = self.augmentations(image)\n",
        "      image = augmented_image['image']\n",
        "\n",
        "    image = np.transpose(image,(2,1,0)).astype(np.float32)\n",
        "    return {\n",
        "        \"image\": torch.tensor(image),\n",
        "        \"label\": torch.tensor(label)\n",
        "    }"
      ],
      "execution_count": 12,
      "outputs": []
    }
  ]
}