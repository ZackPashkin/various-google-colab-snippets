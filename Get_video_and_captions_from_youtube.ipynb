{
  "nbformat": 4,
  "nbformat_minor": 0,
  "metadata": {
    "colab": {
      "name": "Get video and captions from youtube.ipynb",
      "provenance": [],
      "collapsed_sections": [],
      "toc_visible": true,
      "authorship_tag": "ABX9TyN6A04e1i0kM5ujBCmolThT",
      "include_colab_link": true
    },
    "kernelspec": {
      "name": "python3",
      "display_name": "Python 3"
    },
    "language_info": {
      "name": "python"
    }
  },
  "cells": [
    {
      "cell_type": "markdown",
      "metadata": {
        "id": "view-in-github",
        "colab_type": "text"
      },
      "source": [
        "<a href=\"https://colab.research.google.com/github/ZackPashkin/various-google-colab-snippets/blob/main/Get_video_and_captions_from_youtube.ipynb\" target=\"_parent\"><img src=\"https://colab.research.google.com/assets/colab-badge.svg\" alt=\"Open In Colab\"/></a>"
      ]
    },
    {
      "cell_type": "markdown",
      "metadata": {
        "id": "ap9eypGsiHoa"
      },
      "source": [
        "# Get video and captions from youtube "
      ]
    },
    {
      "cell_type": "code",
      "metadata": {
        "id": "Cq8f515EiCVO"
      },
      "source": [
        "!pip install pytube"
      ],
      "execution_count": null,
      "outputs": []
    },
    {
      "cell_type": "code",
      "metadata": {
        "id": "bXtYES9NjS_3"
      },
      "source": [
        "# Download video from youtube\n",
        "from pytube import YouTube\n",
        "import shutil\n",
        "video = YouTube('https://www.youtube.com/watch?v=vRkZSawiMGU')\n",
        "video.streams.filter(file_extension = \"mp4\").all()\n",
        "path = video.streams.get_by_itag(18).download()"
      ],
      "execution_count": null,
      "outputs": []
    },
    {
      "cell_type": "code",
      "metadata": {
        "id": "0W74GQBpjgdP"
      },
      "source": [
        "# Extract frames https://stackoverflow.com/a/63686021/9875025\n",
        "!mkdir frames\n",
        "import cv2\n",
        "import os\n",
        "\n",
        "KPS = 0.1 # per second capture rate\n",
        "VIDEO_PATH = path #\"path/to/video/folder\" \n",
        "OUT_FRAMES_PATH = \"frames/\"\n",
        "EXTENSION = \".png\"\n",
        "\n",
        "cap = cv2.VideoCapture(VIDEO_PATH)\n",
        "fps = round(cap.get(cv2.CAP_PROP_FPS))\n",
        "\n",
        "print(fps)\n",
        "\n",
        "\n",
        "step = round(fps / KPS)\n",
        "curr_frame = 0\n",
        "while(True):\n",
        "    ret, frame = cap.read()\n",
        "    if not ret: break\n",
        "    if curr_frame % step == 0:\n",
        "            name = OUT_FRAMES_PATH + \"_\" + str(curr_frame) + EXTENSION\n",
        "            cv2.imwrite(name, frame)\n",
        "    curr_frame += 1\n",
        "cap.release()\n",
        "\n",
        "\n",
        "\n",
        "print(\"number of frames: \", len(os.listdir(\"/content/frames\")))"
      ],
      "execution_count": null,
      "outputs": []
    },
    {
      "cell_type": "code",
      "metadata": {
        "id": "UboAml6zkLGr"
      },
      "source": [
        "# check available captions\n",
        "video.captions\n",
        "\n",
        "# example output\n",
        "# {'a.ru': <Caption lang=\"Russian (auto-generated)\" code=\"a.ru\">}"
      ],
      "execution_count": null,
      "outputs": []
    },
    {
      "cell_type": "code",
      "metadata": {
        "id": "5aB25VYGkLEx"
      },
      "source": [
        "# create df with timestamps and captions\n",
        "# NOTE this pandas build takes ~5min to install\n",
        "# !pip install git+https://github.com/pandas-dev/pandas\n",
        "\n",
        "import pandas as pd\n",
        "caption = video.captions.get_by_language_code('a.ru')\n",
        "\n",
        "xml_str = caption.xml_captions\n",
        "df = pd.read_xml(xml_str)\n",
        "df.to_csv(\"captions_&_timestamps.csv\",index=False)\n",
        "df"
      ],
      "execution_count": null,
      "outputs": []
    },
    {
      "cell_type": "code",
      "metadata": {
        "id": "aJyVsJKVkLCP"
      },
      "source": [
        ""
      ],
      "execution_count": null,
      "outputs": []
    }
  ]
}