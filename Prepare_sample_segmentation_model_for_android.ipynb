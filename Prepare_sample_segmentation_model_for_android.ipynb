{
  "nbformat": 4,
  "nbformat_minor": 0,
  "metadata": {
    "colab": {
      "name": "Prepare sample segmentation model for android.ipynb",
      "provenance": [],
      "collapsed_sections": [],
      "toc_visible": true,
      "authorship_tag": "ABX9TyNGihrHEZUg9b9qiZQNeWzI",
      "include_colab_link": true
    },
    "kernelspec": {
      "name": "python3",
      "display_name": "Python 3"
    },
    "accelerator": "GPU"
  },
  "cells": [
    {
      "cell_type": "markdown",
      "metadata": {
        "id": "view-in-github",
        "colab_type": "text"
      },
      "source": [
        "<a href=\"https://colab.research.google.com/github/ZackPashkin/various-google-colab-snippets/blob/main/Prepare_sample_segmentation_model_for_android.ipynb\" target=\"_parent\"><img src=\"https://colab.research.google.com/assets/colab-badge.svg\" alt=\"Open In Colab\"/></a>"
      ]
    },
    {
      "cell_type": "markdown",
      "metadata": {
        "id": "89nnrH7lSMxx"
      },
      "source": [
        "#  Prepare sample segmentation model pytorch for android"
      ]
    },
    {
      "cell_type": "code",
      "metadata": {
        "id": "WY6HEoQeN_vY"
      },
      "source": [
        "import torch\n",
        "model = torch.hub.load('mateuszbuda/brain-segmentation-pytorch', 'unet',\n",
        "    in_channels=3, out_channels=1, init_features=32, pretrained=True) # ~29mb\n",
        "# model = torch.hub.load('pytorch/vision:v0.7.0', 'deeplabv3_resnet50', pretrained=True) #~160mm\n",
        "model.eval()"
      ],
      "execution_count": null,
      "outputs": []
    },
    {
      "cell_type": "code",
      "metadata": {
        "id": "sisNtMV91s2E"
      },
      "source": [
        "from torch.utils.mobile_optimizer import optimize_for_mobile\n",
        "ts_model = torch.jit.script(model)\n",
        "optimized_torchscript_model = optimize_for_mobile(ts_model)\n",
        "optimized_torchscript_model.save(\"segm_model_android.pt\")"
      ],
      "execution_count": 2,
      "outputs": []
    },
    {
      "cell_type": "code",
      "metadata": {
        "id": "I40YxEy6cing"
      },
      "source": [
        "from google.colab import files\n",
        "files.download('segm_model_android.pt')"
      ],
      "execution_count": null,
      "outputs": []
    }
  ]
}