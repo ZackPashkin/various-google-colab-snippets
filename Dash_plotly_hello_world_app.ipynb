{
  "nbformat": 4,
  "nbformat_minor": 0,
  "metadata": {
    "colab": {
      "name": "Dash plotly hello world app.ipynb",
      "provenance": [],
      "authorship_tag": "ABX9TyP0Gh33OVSjjdGLDYSQxwzS",
      "include_colab_link": true
    },
    "kernelspec": {
      "name": "python3",
      "display_name": "Python 3"
    },
    "language_info": {
      "name": "python"
    }
  },
  "cells": [
    {
      "cell_type": "markdown",
      "metadata": {
        "id": "view-in-github",
        "colab_type": "text"
      },
      "source": [
        "<a href=\"https://colab.research.google.com/github/ZackPashkin/various-google-colab-snippets/blob/main/Dash_plotly_hello_world_app.ipynb\" target=\"_parent\"><img src=\"https://colab.research.google.com/assets/colab-badge.svg\" alt=\"Open In Colab\"/></a>"
      ]
    },
    {
      "cell_type": "markdown",
      "metadata": {
        "id": "cP1V18PpeaP9"
      },
      "source": [
        "# Dash plotly hello world app"
      ]
    },
    {
      "cell_type": "code",
      "metadata": {
        "colab": {
          "base_uri": "https://localhost:8080/"
        },
        "id": "AXllMeZTeh80",
        "outputId": "225c4789-bea3-4f0f-a4ba-3fb2736bff27"
      },
      "source": [
        "!pip install dash\n",
        "!pip install pyngrok"
      ],
      "execution_count": 4,
      "outputs": [
        {
          "output_type": "stream",
          "text": [
            "Requirement already satisfied: dash in /usr/local/lib/python3.7/dist-packages (1.20.0)\n",
            "Requirement already satisfied: dash-table==4.11.3 in /usr/local/lib/python3.7/dist-packages (from dash) (4.11.3)\n",
            "Requirement already satisfied: plotly in /usr/local/lib/python3.7/dist-packages (from dash) (4.4.1)\n",
            "Requirement already satisfied: flask-compress in /usr/local/lib/python3.7/dist-packages (from dash) (1.9.0)\n",
            "Requirement already satisfied: dash-renderer==1.9.1 in /usr/local/lib/python3.7/dist-packages (from dash) (1.9.1)\n",
            "Requirement already satisfied: dash-core-components==1.16.0 in /usr/local/lib/python3.7/dist-packages (from dash) (1.16.0)\n",
            "Requirement already satisfied: Flask>=1.0.4 in /usr/local/lib/python3.7/dist-packages (from dash) (1.1.4)\n",
            "Requirement already satisfied: dash-html-components==1.1.3 in /usr/local/lib/python3.7/dist-packages (from dash) (1.1.3)\n",
            "Requirement already satisfied: future in /usr/local/lib/python3.7/dist-packages (from dash) (0.16.0)\n",
            "Requirement already satisfied: six in /usr/local/lib/python3.7/dist-packages (from plotly->dash) (1.15.0)\n",
            "Requirement already satisfied: retrying>=1.3.3 in /usr/local/lib/python3.7/dist-packages (from plotly->dash) (1.3.3)\n",
            "Requirement already satisfied: brotli in /usr/local/lib/python3.7/dist-packages (from flask-compress->dash) (1.0.9)\n",
            "Requirement already satisfied: itsdangerous<2.0,>=0.24 in /usr/local/lib/python3.7/dist-packages (from Flask>=1.0.4->dash) (1.1.0)\n",
            "Requirement already satisfied: click<8.0,>=5.1 in /usr/local/lib/python3.7/dist-packages (from Flask>=1.0.4->dash) (7.1.2)\n",
            "Requirement already satisfied: Werkzeug<2.0,>=0.15 in /usr/local/lib/python3.7/dist-packages (from Flask>=1.0.4->dash) (1.0.1)\n",
            "Requirement already satisfied: Jinja2<3.0,>=2.10.1 in /usr/local/lib/python3.7/dist-packages (from Flask>=1.0.4->dash) (2.11.3)\n",
            "Requirement already satisfied: MarkupSafe>=0.23 in /usr/local/lib/python3.7/dist-packages (from Jinja2<3.0,>=2.10.1->Flask>=1.0.4->dash) (2.0.1)\n",
            "Collecting pyngrok\n",
            "\u001b[?25l  Downloading https://files.pythonhosted.org/packages/6b/4e/a2fe095bbe17cf26424c4abcd22a0490e22d01cc628f25af5e220ddbf6f0/pyngrok-5.0.5.tar.gz (745kB)\n",
            "\u001b[K     |████████████████████████████████| 747kB 14.1MB/s \n",
            "\u001b[?25hRequirement already satisfied: PyYAML in /usr/local/lib/python3.7/dist-packages (from pyngrok) (3.13)\n",
            "Building wheels for collected packages: pyngrok\n",
            "  Building wheel for pyngrok (setup.py) ... \u001b[?25l\u001b[?25hdone\n",
            "  Created wheel for pyngrok: filename=pyngrok-5.0.5-cp37-none-any.whl size=19262 sha256=1d8c3829364aed22d30fbe122b09d1d14d24623f738089c2f6eac76558f92de5\n",
            "  Stored in directory: /root/.cache/pip/wheels/0c/13/64/5ebbcc22eaf53fdf5766b397c1fb17c83f5775fdccf0ea1b88\n",
            "Successfully built pyngrok\n",
            "Installing collected packages: pyngrok\n",
            "Successfully installed pyngrok-5.0.5\n"
          ],
          "name": "stdout"
        }
      ]
    },
    {
      "cell_type": "code",
      "metadata": {
        "id": "yXvu8fIRfUoN"
      },
      "source": [
        "#launch ngrok tunnel\n",
        "from pyngrok import ngrok\n",
        "public_url = ngrok.connect(port = '80')"
      ],
      "execution_count": 6,
      "outputs": []
    },
    {
      "cell_type": "code",
      "metadata": {
        "colab": {
          "base_uri": "https://localhost:8080/"
        },
        "id": "AJKZy0EJeQge",
        "outputId": "313be9ac-b1d8-41cc-bd82-47e6e1466bd2"
      },
      "source": [
        "import dash\n",
        "import dash_html_components as html\n",
        "import dash_core_components as dcc\n",
        "from dash.dependencies import Input, Output\n",
        "import plotly.express as px\n",
        "\n",
        "#some dataset\n",
        "tips = px.data.tips()\n",
        "\n",
        "# column options will be used with dropdown \n",
        "col_options = [dict(label=x, value=x) for x in tips.columns]\n",
        "\n",
        "#init dash app\n",
        "app = dash.Dash(__name__)\n",
        "\n",
        "#create widgets \n",
        "app.layout = html.Div(children = [\n",
        "  html.H1(\"Hello World Dash Plotly App\"),\n",
        "  dcc.Dropdown(id=\"x\", options=col_options),\n",
        "  dcc.Graph(id=\"graph\", figure=px.scatter(tips)),                        \n",
        "])\n",
        "\n",
        "@app.callback(Output('graph','figure'), [Input('x','value')])\n",
        "def _(x):\n",
        "  return px.scatter(tips,x=x)\n",
        "\n",
        "print(\"Follow the ngrok link: \", public_url)\n",
        "\n",
        "app.run_server(port=80)\n",
        "# Note if you don't see dots on scatter plot, wait a bit\n"
      ],
      "execution_count": 7,
      "outputs": [
        {
          "output_type": "stream",
          "text": [
            "Follow the ngrok link:  NgrokTunnel: \"http://1608435ff609.ngrok.io\" -> \"http://localhost:80\"\n",
            "Dash is running on http://127.0.0.1:80/\n",
            "\n",
            "Dash is running on http://127.0.0.1:80/\n",
            "\n",
            "Dash is running on http://127.0.0.1:80/\n",
            "\n",
            "Dash is running on http://127.0.0.1:80/\n",
            "\n",
            " * Serving Flask app \"__main__\" (lazy loading)\n",
            " * Environment: production\n",
            "\u001b[31m   WARNING: This is a development server. Do not use it in a production deployment.\u001b[0m\n",
            "\u001b[2m   Use a production WSGI server instead.\u001b[0m\n",
            " * Debug mode: off\n"
          ],
          "name": "stdout"
        },
        {
          "output_type": "stream",
          "text": [
            " * Running on http://127.0.0.1:80/ (Press CTRL+C to quit)\n",
            "127.0.0.1 - - [08/Jun/2021 03:04:22] \"\u001b[37mGET / HTTP/1.1\u001b[0m\" 200 -\n",
            "127.0.0.1 - - [08/Jun/2021 03:04:22] \"\u001b[37mGET /_dash-component-suites/dash_renderer/react@16.v1_9_1m1623119811.14.0.min.js HTTP/1.1\u001b[0m\" 200 -\n",
            "127.0.0.1 - - [08/Jun/2021 03:04:22] \"\u001b[37mGET /_dash-component-suites/dash_renderer/polyfill@7.v1_9_1m1623119811.8.7.min.js HTTP/1.1\u001b[0m\" 200 -\n",
            "127.0.0.1 - - [08/Jun/2021 03:04:22] \"\u001b[37mGET /_dash-component-suites/dash_renderer/react-dom@16.v1_9_1m1623119811.14.0.min.js HTTP/1.1\u001b[0m\" 200 -\n",
            "127.0.0.1 - - [08/Jun/2021 03:04:22] \"\u001b[37mGET /_dash-component-suites/dash_html_components/dash_html_components.v1_1_3m1623119813.min.js HTTP/1.1\u001b[0m\" 200 -\n",
            "127.0.0.1 - - [08/Jun/2021 03:04:22] \"\u001b[37mGET /_dash-component-suites/dash_core_components/dash_core_components.v1_16_0m1623119812.min.js HTTP/1.1\u001b[0m\" 200 -\n",
            "127.0.0.1 - - [08/Jun/2021 03:04:22] \"\u001b[37mGET /_dash-component-suites/dash_renderer/prop-types@15.v1_9_1m1623119811.7.2.min.js HTTP/1.1\u001b[0m\" 200 -\n",
            "127.0.0.1 - - [08/Jun/2021 03:04:22] \"\u001b[37mGET /_dash-component-suites/dash_core_components/dash_core_components-shared.v1_16_0m1623119812.js HTTP/1.1\u001b[0m\" 200 -\n",
            "127.0.0.1 - - [08/Jun/2021 03:04:22] \"\u001b[37mGET /_dash-component-suites/dash_renderer/dash_renderer.v1_9_1m1623119811.min.js HTTP/1.1\u001b[0m\" 200 -\n",
            "127.0.0.1 - - [08/Jun/2021 03:04:23] \"\u001b[37mGET / HTTP/1.1\u001b[0m\" 200 -\n",
            "127.0.0.1 - - [08/Jun/2021 03:04:23] \"\u001b[37mGET /_dash-dependencies HTTP/1.1\u001b[0m\" 200 -\n",
            "127.0.0.1 - - [08/Jun/2021 03:04:23] \"\u001b[37mGET /_favicon.ico?v=1.20.0 HTTP/1.1\u001b[0m\" 200 -\n",
            "127.0.0.1 - - [08/Jun/2021 03:04:23] \"\u001b[37mGET /_dash-layout HTTP/1.1\u001b[0m\" 200 -\n",
            "127.0.0.1 - - [08/Jun/2021 03:04:24] \"\u001b[37mGET /_dash-component-suites/dash_core_components/async-graph.v1_16_0m1617903285.js HTTP/1.1\u001b[0m\" 200 -\n",
            "127.0.0.1 - - [08/Jun/2021 03:04:24] \"\u001b[37mGET /_dash-component-suites/dash_core_components/async-dropdown.v1_16_0m1617903285.js HTTP/1.1\u001b[0m\" 200 -\n",
            "127.0.0.1 - - [08/Jun/2021 03:04:24] \"\u001b[37mGET /_dash-component-suites/dash_core_components/async-plotlyjs.v1_16_0m1617903285.js HTTP/1.1\u001b[0m\" 200 -\n",
            "127.0.0.1 - - [08/Jun/2021 03:04:24] \"\u001b[37mPOST /_dash-update-component HTTP/1.1\u001b[0m\" 200 -\n",
            "127.0.0.1 - - [08/Jun/2021 03:04:24] \"\u001b[37mGET /_dash-component-suites/dash_html_components/dash_html_components.v1_1_3m1623119813.min.js HTTP/1.1\u001b[0m\" 200 -\n",
            "127.0.0.1 - - [08/Jun/2021 03:04:24] \"\u001b[37mGET /_dash-component-suites/dash_renderer/polyfill@7.v1_9_1m1623119811.8.7.min.js HTTP/1.1\u001b[0m\" 200 -\n",
            "127.0.0.1 - - [08/Jun/2021 03:04:24] \"\u001b[37mGET /_dash-component-suites/dash_renderer/react@16.v1_9_1m1623119811.14.0.min.js HTTP/1.1\u001b[0m\" 200 -\n",
            "127.0.0.1 - - [08/Jun/2021 03:04:24] \"\u001b[37mGET /_dash-component-suites/dash_renderer/prop-types@15.v1_9_1m1623119811.7.2.min.js HTTP/1.1\u001b[0m\" 200 -\n",
            "127.0.0.1 - - [08/Jun/2021 03:04:24] \"\u001b[37mGET /_dash-component-suites/dash_core_components/dash_core_components.v1_16_0m1623119812.min.js HTTP/1.1\u001b[0m\" 200 -\n",
            "127.0.0.1 - - [08/Jun/2021 03:04:24] \"\u001b[37mGET /_dash-component-suites/dash_renderer/react-dom@16.v1_9_1m1623119811.14.0.min.js HTTP/1.1\u001b[0m\" 200 -\n",
            "127.0.0.1 - - [08/Jun/2021 03:04:25] \"\u001b[37mGET /_dash-component-suites/dash_core_components/dash_core_components-shared.v1_16_0m1623119812.js HTTP/1.1\u001b[0m\" 200 -\n",
            "127.0.0.1 - - [08/Jun/2021 03:04:25] \"\u001b[37mGET /_dash-component-suites/dash_renderer/dash_renderer.v1_9_1m1623119811.min.js HTTP/1.1\u001b[0m\" 200 -\n",
            "127.0.0.1 - - [08/Jun/2021 03:04:27] \"\u001b[37mGET /_dash-dependencies HTTP/1.1\u001b[0m\" 200 -\n",
            "127.0.0.1 - - [08/Jun/2021 03:04:27] \"\u001b[37mGET /_dash-layout HTTP/1.1\u001b[0m\" 200 -\n",
            "127.0.0.1 - - [08/Jun/2021 03:04:27] \"\u001b[37mPOST /_dash-update-component HTTP/1.1\u001b[0m\" 200 -\n",
            "127.0.0.1 - - [08/Jun/2021 03:04:28] \"\u001b[37mGET /_dash-component-suites/dash_core_components/async-graph.v1_16_0m1617903285.js HTTP/1.1\u001b[0m\" 200 -\n",
            "127.0.0.1 - - [08/Jun/2021 03:04:28] \"\u001b[37mGET /_dash-component-suites/dash_core_components/async-dropdown.v1_16_0m1617903285.js HTTP/1.1\u001b[0m\" 200 -\n",
            "127.0.0.1 - - [08/Jun/2021 03:04:28] \"\u001b[37mGET /_dash-component-suites/dash_core_components/async-plotlyjs.v1_16_0m1617903285.js HTTP/1.1\u001b[0m\" 200 -\n",
            "127.0.0.1 - - [08/Jun/2021 03:04:31] \"\u001b[37mPOST /_dash-update-component HTTP/1.1\u001b[0m\" 200 -\n"
          ],
          "name": "stderr"
        }
      ]
    }
  ]
}