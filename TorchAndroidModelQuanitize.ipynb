{
  "nbformat": 4,
  "nbformat_minor": 0,
  "metadata": {
    "colab": {
      "name": "TorchAndroidModelQuanitize.ipynb",
      "provenance": [],
      "collapsed_sections": [],
      "toc_visible": true,
      "mount_file_id": "1fUPhOvFOH_iq5UC_34wbwnC9t1poClzO",
      "authorship_tag": "ABX9TyNrT539K8x3HuidRmJg0S/N",
      "include_colab_link": true
    },
    "kernelspec": {
      "name": "python3",
      "display_name": "Python 3"
    },
    "language_info": {
      "name": "python"
    },
    "accelerator": "GPU"
  },
  "cells": [
    {
      "cell_type": "markdown",
      "metadata": {
        "id": "view-in-github",
        "colab_type": "text"
      },
      "source": [
        "<a href=\"https://colab.research.google.com/github/ZackPashkin/various-google-colab-snippets/blob/main/TorchAndroidModelQuanitize.ipynb\" target=\"_parent\"><img src=\"https://colab.research.google.com/assets/colab-badge.svg\" alt=\"Open In Colab\"/></a>"
      ]
    },
    {
      "cell_type": "markdown",
      "metadata": {
        "id": "CvD3xCCZIm-U"
      },
      "source": [
        "# Prepare for Android. Torch Model Dynamic Quanitization"
      ]
    },
    {
      "cell_type": "code",
      "metadata": {
        "id": "Gntt4qdv81U5",
        "colab": {
          "base_uri": "https://localhost:8080/",
          "height": 35
        },
        "outputId": "648256cd-011f-4c45-e6cf-322e0193fe37"
      },
      "source": [
        "import torch\n",
        "torch.__version__\n",
        "# 1.8.1+cu101\n",
        "# Python 3.7.10\n"
      ],
      "execution_count": 1,
      "outputs": [
        {
          "output_type": "execute_result",
          "data": {
            "application/vnd.google.colaboratory.intrinsic+json": {
              "type": "string"
            },
            "text/plain": [
              "'1.8.1+cu101'"
            ]
          },
          "metadata": {
            "tags": []
          },
          "execution_count": 1
        }
      ]
    },
    {
      "cell_type": "code",
      "metadata": {
        "id": "dLO2uhpMIGa1"
      },
      "source": [
        "# example model , change to yours\n",
        "from torchvision import models\n",
        "model = models.resnet18(pretrained=True)\n",
        "model.eval()"
      ],
      "execution_count": null,
      "outputs": []
    },
    {
      "cell_type": "code",
      "metadata": {
        "id": "IwRjiOECJkUN"
      },
      "source": [
        "# simple dynamic quantization. Only linear layers\n",
        "backend = \"qnnpack\"\n",
        "model.qconfig = torch.quantization.get_default_qconfig(backend)\n",
        "torch.backends.quantized.engine = backend\n",
        "quantized_model = torch.quantization.quantize_dynamic(model.to(\"cpu\"), {torch.nn.Linear}, dtype=torch.qint8)"
      ],
      "execution_count": 8,
      "outputs": []
    },
    {
      "cell_type": "code",
      "metadata": {
        "id": "Z7ObX78zQb1H"
      },
      "source": [
        "# prepare for android\n",
        "from torch.utils.mobile_optimizer import optimize_for_mobile\n",
        "ts_model = torch.jit.script(model)\n",
        "optimized_torchscript_model = optimize_for_mobile(ts_model)\n",
        "optimized_torchscript_model.save('modelq2.pt')"
      ],
      "execution_count": 10,
      "outputs": []
    },
    {
      "cell_type": "code",
      "metadata": {
        "id": "rCEt2I5XRzOm"
      },
      "source": [
        "# test model\n",
        "input_fp32 = torch.randn(4, 3, 224, 224)\n",
        "preds = optimized_torchscript_model(input_fp32)\n",
        "print(preds)"
      ],
      "execution_count": null,
      "outputs": []
    }
  ]
}